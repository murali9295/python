{
 "cells": [
  {
   "cell_type": "code",
   "execution_count": 12,
   "id": "4d3551ca",
   "metadata": {},
   "outputs": [
    {
     "name": "stdout",
     "output_type": "stream",
     "text": [
      "1\n",
      "[2, 3, 'reddy', 891, 'murali', 2, 'MURALI', 23]\n",
      "[2, 3, 'reddy', 891, 'murali', 2, 'MURALI', 23, 230, 8541, 'raju', 99, 'tarun']\n"
     ]
    }
   ],
   "source": [
    "data = [2,3,'reddy',891,'murali',2,'MURALI']\n",
    "data.append(23)\n",
    "data2 = data.copy()\n",
    "print(data.count('murali'))\n",
    "data.extend([230,8541,'raju',99,'tarun'])\n",
    "\n",
    "print(data2)\n",
    "print(data)"
   ]
  },
  {
   "cell_type": "code",
   "execution_count": 13,
   "id": "c7127e5b",
   "metadata": {},
   "outputs": [
    {
     "data": {
      "text/plain": [
       "4"
      ]
     },
     "execution_count": 13,
     "metadata": {},
     "output_type": "execute_result"
    }
   ],
   "source": [
    "data.index(\"murali\")"
   ]
  },
  {
   "cell_type": "code",
   "execution_count": 25,
   "id": "5ee6bfbf",
   "metadata": {},
   "outputs": [
    {
     "name": "stdout",
     "output_type": "stream",
     "text": [
      "[2, 3, 'surya', 'surya', 'reddy', 891, 'murali', 2, 'MURALI', 23, 230, 8541, 'raju', 99, 'tarun']\n",
      "[2, 3, 'surya', 'reddy', 891, 'murali', 2, 'MURALI', 23, 230, 8541, 'raju', 99, 'tarun']\n",
      "1\n"
     ]
    }
   ],
   "source": [
    "data.insert(2,'surya')\n",
    "print(data)\n",
    "data.remove('surya')\n",
    "print(data)\n",
    "print(data.count('surya'))"
   ]
  },
  {
   "cell_type": "code",
   "execution_count": 24,
   "id": "42e4ea78",
   "metadata": {},
   "outputs": [
    {
     "name": "stdout",
     "output_type": "stream",
     "text": [
      "[2, 3, 'surya', 'reddy', 891, 'murali', 2, 'MURALI', 23, 230, 8541, 'raju', 99, 'tarun']\n"
     ]
    }
   ],
   "source": [
    "data.remove('surya')\n",
    "print(data)"
   ]
  },
  {
   "cell_type": "code",
   "execution_count": 30,
   "id": "c9b25975",
   "metadata": {},
   "outputs": [
    {
     "name": "stdout",
     "output_type": "stream",
     "text": [
      "[3, 'surya', 'reddy', 891, 'murali', 'MURALI', 23, 230, 8541, 'raju', 'tarun']\n"
     ]
    }
   ],
   "source": [
    "data.remove(99)\n",
    "print(data)"
   ]
  },
  {
   "cell_type": "code",
   "execution_count": 31,
   "id": "4189947f",
   "metadata": {},
   "outputs": [
    {
     "ename": "TypeError",
     "evalue": "'<' not supported between instances of 'str' and 'int'",
     "output_type": "error",
     "traceback": [
      "\u001b[1;31m---------------------------------------------------------------------------\u001b[0m",
      "\u001b[1;31mTypeError\u001b[0m                                 Traceback (most recent call last)",
      "\u001b[1;32m<ipython-input-31-cfdd66cfdfb7>\u001b[0m in \u001b[0;36m<module>\u001b[1;34m\u001b[0m\n\u001b[1;32m----> 1\u001b[1;33m \u001b[0mdata\u001b[0m\u001b[1;33m.\u001b[0m\u001b[0msort\u001b[0m\u001b[1;33m(\u001b[0m\u001b[1;33m)\u001b[0m\u001b[1;33m\u001b[0m\u001b[1;33m\u001b[0m\u001b[0m\n\u001b[0m",
      "\u001b[1;31mTypeError\u001b[0m: '<' not supported between instances of 'str' and 'int'"
     ]
    }
   ],
   "source": [
    "data.sort()"
   ]
  },
  {
   "cell_type": "code",
   "execution_count": 38,
   "id": "1e238a52",
   "metadata": {},
   "outputs": [
    {
     "name": "stdout",
     "output_type": "stream",
     "text": [
      "{65, 2, 66, 5, 874, 494, 48, 854, 55}\n"
     ]
    }
   ],
   "source": [
    "s = {2,66,55,874,5,494,48,854,65}\n",
    "print(s)"
   ]
  },
  {
   "cell_type": "code",
   "execution_count": 41,
   "id": "23e9d6cf",
   "metadata": {},
   "outputs": [
    {
     "name": "stdout",
     "output_type": "stream",
     "text": [
      "{5, 494, 55}\n"
     ]
    }
   ],
   "source": [
    "s2=set((32,78,95,48,32,15,2,66,874,854,65))\n",
    "print(s-s2)"
   ]
  },
  {
   "cell_type": "code",
   "execution_count": 45,
   "id": "4cc0caeb",
   "metadata": {},
   "outputs": [
    {
     "name": "stdout",
     "output_type": "stream",
     "text": [
      "{1: 'raju', 2: 'ramu', 3: 'rajesh', 4: 'rakesh'}\n",
      "ramu\n"
     ]
    }
   ],
   "source": [
    "dic1 = [1,2,3,4]\n",
    "dic2 = ['raju','ramu','rajesh','rakesh']\n",
    "\n",
    "dic = dict(zip(dic1,dic2))\n",
    "print(dic)\n",
    "print(dic[2])"
   ]
  },
  {
   "cell_type": "code",
   "execution_count": 49,
   "id": "06a39bb4",
   "metadata": {},
   "outputs": [
    {
     "name": "stdout",
     "output_type": "stream",
     "text": [
      "5.0\n"
     ]
    }
   ],
   "source": [
    "import math\n",
    "print(math.sqrt(25))"
   ]
  },
  {
   "cell_type": "code",
   "execution_count": 52,
   "id": "16b65a39",
   "metadata": {},
   "outputs": [
    {
     "name": "stdout",
     "output_type": "stream",
     "text": [
      " a value = 26\n",
      " b value = 1654\n",
      "1680\n"
     ]
    }
   ],
   "source": [
    "a = int(input(\" a value = \"))\n",
    "b = int(input(\" b value = \"))\n",
    "#c=a+b\n",
    "print(a+b)"
   ]
  },
  {
   "cell_type": "code",
   "execution_count": 53,
   "id": "0d0ee4f9",
   "metadata": {},
   "outputs": [
    {
     "name": "stdout",
     "output_type": "stream",
     "text": [
      "*****\n",
      "*****\n",
      "*****\n",
      "*****\n",
      "*****\n"
     ]
    }
   ],
   "source": [
    "i=0\n",
    "while i<5 :\n",
    "    print('*'*5)\n",
    "    i+=1\n",
    "    "
   ]
  },
  {
   "cell_type": "code",
   "execution_count": 54,
   "id": "459bc426",
   "metadata": {},
   "outputs": [
    {
     "name": "stdout",
     "output_type": "stream",
     "text": [
      "\n",
      "*\n",
      "**\n",
      "***\n",
      "****\n"
     ]
    }
   ],
   "source": [
    "i=0\n",
    "while i<5 :\n",
    "    print('*'*i)\n",
    "    i+=1\n",
    "    "
   ]
  }
 ],
 "metadata": {
  "kernelspec": {
   "display_name": "Python 3",
   "language": "python",
   "name": "python3"
  },
  "language_info": {
   "codemirror_mode": {
    "name": "ipython",
    "version": 3
   },
   "file_extension": ".py",
   "mimetype": "text/x-python",
   "name": "python",
   "nbconvert_exporter": "python",
   "pygments_lexer": "ipython3",
   "version": "3.9.4"
  }
 },
 "nbformat": 4,
 "nbformat_minor": 5
}
